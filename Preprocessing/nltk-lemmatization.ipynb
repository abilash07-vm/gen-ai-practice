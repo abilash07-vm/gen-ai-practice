{
 "cells": [
  {
   "cell_type": "code",
   "execution_count": 3,
   "id": "9fe35467",
   "metadata": {},
   "outputs": [],
   "source": [
    "words = [\n",
    "    \"running\", \"runs\", \"ran\", \"easily\", \"fairly\",\n",
    "    \"happiness\", \"happy\", \"unhappily\", \"happiest\",\n",
    "    \"studies\", \"studying\", \"studied\", \"study\",\n",
    "    \"flies\", \"flying\", \"flew\", \"flight\",\n",
    "    \"generously\", \"generation\", \"generate\", \"generated\",\n",
    "    \"swimming\", \"swimmer\", \"swam\", \"swim\",\n",
    "    \"better\", \"best\", \"good\", \"well\",\n",
    "    \"organization\", \"organize\", \"organized\", \"organizing\",\n",
    "    \"activation\", \"active\", \"activate\", \"activating\"\n",
    "]\n"
   ]
  },
  {
   "cell_type": "code",
   "execution_count": 6,
   "id": "13038c39",
   "metadata": {},
   "outputs": [
    {
     "name": "stderr",
     "output_type": "stream",
     "text": [
      "[nltk_data] Downloading package wordnet to C:\\Users\\sajee/nltk_data...\n"
     ]
    }
   ],
   "source": [
    "import nltk\n",
    "from nltk.stem import WordNetLemmatizer\n",
    "\n",
    "nltk.download('wordnet')\n",
    "lemmatizer = WordNetLemmatizer()"
   ]
  },
  {
   "cell_type": "code",
   "execution_count": 13,
   "id": "b10cc1cb",
   "metadata": {},
   "outputs": [
    {
     "name": "stdout",
     "output_type": "stream",
     "text": [
      "running --> run\n",
      "runs --> run\n",
      "ran --> run\n",
      "easily --> easily\n",
      "fairly --> fairly\n",
      "happiness --> happiness\n",
      "happy --> happy\n",
      "unhappily --> unhappily\n",
      "happiest --> happiest\n",
      "studies --> study\n",
      "studying --> study\n",
      "studied --> study\n",
      "study --> study\n",
      "flies --> fly\n",
      "flying --> fly\n",
      "flew --> fly\n",
      "flight --> flight\n",
      "generously --> generously\n",
      "generation --> generation\n",
      "generate --> generate\n",
      "generated --> generate\n",
      "swimming --> swim\n",
      "swimmer --> swimmer\n",
      "swam --> swim\n",
      "swim --> swim\n",
      "better --> better\n",
      "best --> best\n",
      "good --> good\n",
      "well --> well\n",
      "organization --> organization\n",
      "organize --> organize\n",
      "organized --> organize\n",
      "organizing --> organize\n",
      "activation --> activation\n",
      "active --> active\n",
      "activate --> activate\n",
      "activating --> activate\n"
     ]
    }
   ],
   "source": [
    "for word in words:\n",
    "    lemmatized_word = lemmatizer.lemmatize(word, 'v')\n",
    "    print(f'{word} --> {lemmatized_word}')"
   ]
  },
  {
   "cell_type": "code",
   "execution_count": null,
   "id": "fe4d9fdc",
   "metadata": {},
   "outputs": [],
   "source": []
  }
 ],
 "metadata": {
  "kernelspec": {
   "display_name": "Python 3",
   "language": "python",
   "name": "python3"
  },
  "language_info": {
   "codemirror_mode": {
    "name": "ipython",
    "version": 3
   },
   "file_extension": ".py",
   "mimetype": "text/x-python",
   "name": "python",
   "nbconvert_exporter": "python",
   "pygments_lexer": "ipython3",
   "version": "3.12.0"
  }
 },
 "nbformat": 4,
 "nbformat_minor": 5
}
