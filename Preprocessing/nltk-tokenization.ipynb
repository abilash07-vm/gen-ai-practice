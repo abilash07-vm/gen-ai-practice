{
 "cells": [
  {
   "cell_type": "code",
   "execution_count": 6,
   "id": "0b0ae133",
   "metadata": {},
   "outputs": [],
   "source": [
    "corpus = \"\"\"Hello there! How's everything going?\n",
    "Dr. Smith arrived at 10:30 a.m. on Jan. 5th, 2023.\n",
    "Can't you see? It's not just a test—it's *the* test.\n",
    "Email me at example@test.com or visit www.example.com.\n",
    "\"\"\"\n"
   ]
  },
  {
   "cell_type": "code",
   "execution_count": null,
   "id": "c1446625",
   "metadata": {},
   "outputs": [
    {
     "name": "stdout",
     "output_type": "stream",
     "text": [
      "['Hello there!', \"How's everything going?\", 'Dr. Smith arrived at 10:30 a.m. on Jan. 5th, 2023.', \"Can't you see?\", \"It's not just a test—it's *the* test.\", 'Email me at example@test.com or visit www.example.com.']\n"
     ]
    }
   ],
   "source": [
    "from nltk.tokenize import sent_tokenize\n",
    "\n",
    "sentences = sent_tokenize(corpus)\n",
    "print(sentences)"
   ]
  },
  {
   "cell_type": "code",
   "execution_count": 18,
   "id": "e815ae13",
   "metadata": {},
   "outputs": [
    {
     "data": {
      "text/plain": [
       "['Hello',\n",
       " 'there',\n",
       " '!',\n",
       " 'How',\n",
       " \"'s\",\n",
       " 'everything',\n",
       " 'going',\n",
       " '?',\n",
       " 'Dr.',\n",
       " 'Smith',\n",
       " 'arrived',\n",
       " 'at',\n",
       " '10:30',\n",
       " 'a.m.',\n",
       " 'on',\n",
       " 'Jan.',\n",
       " '5th',\n",
       " ',',\n",
       " '2023',\n",
       " '.',\n",
       " 'Ca',\n",
       " \"n't\",\n",
       " 'you',\n",
       " 'see',\n",
       " '?',\n",
       " 'It',\n",
       " \"'s\",\n",
       " 'not',\n",
       " 'just',\n",
       " 'a',\n",
       " 'test—it',\n",
       " \"'s\",\n",
       " '*',\n",
       " 'the',\n",
       " '*',\n",
       " 'test',\n",
       " '.',\n",
       " 'Email',\n",
       " 'me',\n",
       " 'at',\n",
       " 'example',\n",
       " '@',\n",
       " 'test.com',\n",
       " 'or',\n",
       " 'visit',\n",
       " 'www.example.com',\n",
       " '.']"
      ]
     },
     "execution_count": 18,
     "metadata": {},
     "output_type": "execute_result"
    }
   ],
   "source": [
    "from nltk.tokenize import word_tokenize\n",
    "\n",
    "word_tokenize(corpus)"
   ]
  },
  {
   "cell_type": "code",
   "execution_count": 19,
   "id": "b70b1967",
   "metadata": {},
   "outputs": [
    {
     "data": {
      "text/plain": [
       "['Hello',\n",
       " 'there',\n",
       " '!',\n",
       " 'How',\n",
       " \"'\",\n",
       " 's',\n",
       " 'everything',\n",
       " 'going',\n",
       " '?',\n",
       " 'Dr',\n",
       " '.',\n",
       " 'Smith',\n",
       " 'arrived',\n",
       " 'at',\n",
       " '10',\n",
       " ':',\n",
       " '30',\n",
       " 'a',\n",
       " '.',\n",
       " 'm',\n",
       " '.',\n",
       " 'on',\n",
       " 'Jan',\n",
       " '.',\n",
       " '5th',\n",
       " ',',\n",
       " '2023',\n",
       " '.',\n",
       " 'Can',\n",
       " \"'\",\n",
       " 't',\n",
       " 'you',\n",
       " 'see',\n",
       " '?',\n",
       " 'It',\n",
       " \"'\",\n",
       " 's',\n",
       " 'not',\n",
       " 'just',\n",
       " 'a',\n",
       " 'test',\n",
       " '—',\n",
       " 'it',\n",
       " \"'\",\n",
       " 's',\n",
       " '*',\n",
       " 'the',\n",
       " '*',\n",
       " 'test',\n",
       " '.',\n",
       " 'Email',\n",
       " 'me',\n",
       " 'at',\n",
       " 'example',\n",
       " '@',\n",
       " 'test',\n",
       " '.',\n",
       " 'com',\n",
       " 'or',\n",
       " 'visit',\n",
       " 'www',\n",
       " '.',\n",
       " 'example',\n",
       " '.',\n",
       " 'com',\n",
       " '.']"
      ]
     },
     "execution_count": 19,
     "metadata": {},
     "output_type": "execute_result"
    }
   ],
   "source": [
    "from nltk.tokenize import wordpunct_tokenize\n",
    "\n",
    "wordpunct_tokenize(corpus)"
   ]
  }
 ],
 "metadata": {
  "kernelspec": {
   "display_name": "venv",
   "language": "python",
   "name": "python3"
  },
  "language_info": {
   "codemirror_mode": {
    "name": "ipython",
    "version": 3
   },
   "file_extension": ".py",
   "mimetype": "text/x-python",
   "name": "python",
   "nbconvert_exporter": "python",
   "pygments_lexer": "ipython3",
   "version": "3.12.0"
  }
 },
 "nbformat": 4,
 "nbformat_minor": 5
}
