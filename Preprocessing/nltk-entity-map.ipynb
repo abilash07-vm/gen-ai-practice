{
 "cells": [
  {
   "cell_type": "code",
   "execution_count": 17,
   "id": "962d3d46",
   "metadata": {},
   "outputs": [],
   "source": [
    "financial_phrases = [\n",
    "    \"Revenue for Q1 2023 was $1.2 million\",\n",
    "    \"Net profit on 15th July 2022 reached ₹3.5 crore\",\n",
    "    \"Annual report published on March 31, 2021\",\n",
    "    \"Fiscal year 2020-2021 showed a 12% growth\",\n",
    "    \"Stock prices surged on 2023-08-10\",\n",
    "    \"Dividend declared on 01/01/2024\",\n",
    "    \"Earnings per share in FY19 stood at ₹25.75\",\n",
    "    \"The IPO launched in December 2020\",\n",
    "    \"Quarterly loss recorded on 5 April 2022\",\n",
    "    \"Tax filings for 2022 due by July 31\",\n",
    "    \"Audit completed on 2021/11/30\",\n",
    "    \"Gross margin in 2023 was 45%\",\n",
    "    \"Balance sheet as of 30-06-2022\",\n",
    "    \"Cash flow improved in Q3 2024\",\n",
    "    \"Budget released on 1st February 2025\"\n",
    "]\n",
    "\n",
    "\n",
    "\n",
    "\n"
   ]
  },
  {
   "cell_type": "code",
   "execution_count": 18,
   "id": "157ba27d",
   "metadata": {},
   "outputs": [
    {
     "name": "stderr",
     "output_type": "stream",
     "text": [
      "[nltk_data] Downloading package maxent_ne_chunker to\n",
      "[nltk_data]     C:\\Users\\sajee/nltk_data...\n",
      "[nltk_data]   Package maxent_ne_chunker is already up-to-date!\n",
      "[nltk_data] Downloading package words to C:\\Users\\sajee/nltk_data...\n",
      "[nltk_data]   Package words is already up-to-date!\n"
     ]
    },
    {
     "data": {
      "text/plain": [
       "True"
      ]
     },
     "execution_count": 18,
     "metadata": {},
     "output_type": "execute_result"
    }
   ],
   "source": [
    "import nltk \n",
    "nltk.download('maxent_ne_chunker')\n",
    "nltk.download('words')"
   ]
  },
  {
   "cell_type": "code",
   "execution_count": 19,
   "id": "e6016742",
   "metadata": {},
   "outputs": [],
   "source": [
    "words = []\n",
    "for sentence in financial_phrases:\n",
    "    words.extend(nltk.tokenize.word_tokenize(sentence))"
   ]
  },
  {
   "cell_type": "code",
   "execution_count": null,
   "id": "e2f6fad0",
   "metadata": {},
   "outputs": [
    {
     "name": "stdout",
     "output_type": "stream",
     "text": [
      "<generator object ParserI.parse_sents.<locals>.<genexpr> at 0x00000253D99ADC40>\n"
     ]
    }
   ],
   "source": [
    "taggings = nltk.pos_tag_sents([sentence.split() for sentence in financial_phrases])\n",
    "entities = nltk.ne_chunk_sents(taggings)\n",
    "print(entities)\n",
    "# entities.draw()"
   ]
  },
  {
   "cell_type": "code",
   "execution_count": null,
   "id": "14836deb",
   "metadata": {},
   "outputs": [],
   "source": []
  }
 ],
 "metadata": {
  "kernelspec": {
   "display_name": "Python 3",
   "language": "python",
   "name": "python3"
  },
  "language_info": {
   "codemirror_mode": {
    "name": "ipython",
    "version": 3
   },
   "file_extension": ".py",
   "mimetype": "text/x-python",
   "name": "python",
   "nbconvert_exporter": "python",
   "pygments_lexer": "ipython3",
   "version": "3.12.0"
  }
 },
 "nbformat": 4,
 "nbformat_minor": 5
}
