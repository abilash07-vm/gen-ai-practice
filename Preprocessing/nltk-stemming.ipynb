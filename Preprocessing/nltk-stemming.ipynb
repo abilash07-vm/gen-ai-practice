{
 "cells": [
  {
   "cell_type": "code",
   "execution_count": 1,
   "id": "d26d5168",
   "metadata": {},
   "outputs": [],
   "source": [
    "from nltk.stem import PorterStemmer, RegexpStemmer, SnowballStemmer, LancasterStemmer\n"
   ]
  },
  {
   "cell_type": "code",
   "execution_count": 2,
   "id": "662ae0fb",
   "metadata": {},
   "outputs": [],
   "source": [
    "porter_stemmer = PorterStemmer()\n",
    "regexp_stemmer = RegexpStemmer('ing$|s$|e$|able$', min=4)\n",
    "snowball_stemmer = SnowballStemmer(language='english')\n",
    "lancaster_stemmer = LancasterStemmer()"
   ]
  },
  {
   "cell_type": "code",
   "execution_count": 3,
   "id": "20da07c6",
   "metadata": {},
   "outputs": [],
   "source": [
    "words = [\n",
    "    \"running\", \"runs\", \"ran\", \"easily\", \"fairly\",\n",
    "    \"happiness\", \"happy\", \"unhappily\", \"happiest\",\n",
    "    \"studies\", \"studying\", \"studied\", \"study\",\n",
    "    \"flies\", \"flying\", \"flew\", \"flight\",\n",
    "    \"generously\", \"generation\", \"generate\", \"generated\",\n",
    "    \"swimming\", \"swimmer\", \"swam\", \"swim\",\n",
    "    \"better\", \"best\", \"good\", \"well\",\n",
    "    \"organization\", \"organize\", \"organized\", \"organizing\",\n",
    "    \"activation\", \"active\", \"activate\", \"activating\"\n",
    "]\n"
   ]
  },
  {
   "cell_type": "code",
   "execution_count": 4,
   "id": "82451538",
   "metadata": {},
   "outputs": [
    {
     "name": "stdout",
     "output_type": "stream",
     "text": [
      "Word ---> porter regex snowball lancaster\n",
      "running ---> run runn run run\n",
      "runs ---> run run run run\n",
      "ran ---> ran ran ran ran\n",
      "easily ---> easili easily easili easy\n",
      "fairly ---> fairli fairly fair fair\n",
      "happiness ---> happi happines happi happy\n",
      "happy ---> happi happy happi happy\n",
      "unhappily ---> unhappili unhappily unhappili unhappy\n",
      "happiest ---> happiest happiest happiest happiest\n",
      "studies ---> studi studie studi study\n",
      "studying ---> studi study studi study\n",
      "studied ---> studi studied studi study\n",
      "study ---> studi study studi study\n",
      "flies ---> fli flie fli fli\n",
      "flying ---> fli fly fli fly\n",
      "flew ---> flew flew flew flew\n",
      "flight ---> flight flight flight flight\n",
      "generously ---> gener generously generous gen\n",
      "generation ---> gener generation generat gen\n",
      "generate ---> gener generat generat gen\n",
      "generated ---> gener generated generat gen\n",
      "swimming ---> swim swimm swim swim\n",
      "swimmer ---> swimmer swimmer swimmer swim\n",
      "swam ---> swam swam swam swam\n",
      "swim ---> swim swim swim swim\n",
      "better ---> better better better bet\n",
      "best ---> best best best best\n",
      "good ---> good good good good\n",
      "well ---> well well well wel\n",
      "organization ---> organ organization organ org\n",
      "organize ---> organ organiz organ org\n",
      "organized ---> organ organized organ org\n",
      "organizing ---> organ organiz organ org\n",
      "activation ---> activ activation activ act\n",
      "active ---> activ activ activ act\n",
      "activate ---> activ activat activ act\n",
      "activating ---> activ activat activ act\n"
     ]
    }
   ],
   "source": [
    "print('Word ---> porter regex snowball lancaster')\n",
    "for word in words:\n",
    "    print(f'{word} ---> {porter_stemmer.stem(word)} {regexp_stemmer.stem(word)} {snowball_stemmer.stem(word)} {lancaster_stemmer.stem(word)}')"
   ]
  }
 ],
 "metadata": {
  "kernelspec": {
   "display_name": "Python 3",
   "language": "python",
   "name": "python3"
  },
  "language_info": {
   "codemirror_mode": {
    "name": "ipython",
    "version": 3
   },
   "file_extension": ".py",
   "mimetype": "text/x-python",
   "name": "python",
   "nbconvert_exporter": "python",
   "pygments_lexer": "ipython3",
   "version": "3.12.0"
  }
 },
 "nbformat": 4,
 "nbformat_minor": 5
}
