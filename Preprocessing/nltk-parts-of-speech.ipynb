{
 "cells": [
  {
   "cell_type": "code",
   "execution_count": 1,
   "id": "12d12307",
   "metadata": {},
   "outputs": [],
   "source": [
    "words = [\n",
    "    \"running\", \"runs\", \"ran\", \"easily\", \"fairly\",\n",
    "    \"happiness\", \"happy\", \"unhappily\", \"happiest\",\n",
    "    \"studies\", \"studying\", \"studied\", \"study\",\n",
    "    \"flies\", \"flying\", \"flew\", \"flight\",\n",
    "    \"generously\", \"generation\", \"generate\", \"generated\",\n",
    "    \"swimming\", \"swimmer\", \"swam\", \"swim\",\n",
    "    \"better\", \"best\", \"good\", \"well\",\n",
    "    \"organization\", \"organize\", \"organized\", \"organizing\",\n",
    "    \"activation\", \"active\", \"activate\", \"activating\"\n",
    "]\n"
   ]
  },
  {
   "cell_type": "code",
   "execution_count": 4,
   "id": "43491a58",
   "metadata": {},
   "outputs": [
    {
     "name": "stderr",
     "output_type": "stream",
     "text": [
      "[nltk_data] Downloading package averaged_perceptron_tagger_eng to\n",
      "[nltk_data]     C:\\Users\\sajee/nltk_data...\n",
      "[nltk_data]   Unzipping taggers\\averaged_perceptron_tagger_eng.zip.\n"
     ]
    },
    {
     "data": {
      "text/plain": [
       "True"
      ]
     },
     "execution_count": 4,
     "metadata": {},
     "output_type": "execute_result"
    }
   ],
   "source": [
    "import nltk \n",
    "nltk.download('averaged_perceptron_tagger_eng')"
   ]
  },
  {
   "cell_type": "code",
   "execution_count": 6,
   "id": "575376d3",
   "metadata": {},
   "outputs": [
    {
     "name": "stdout",
     "output_type": "stream",
     "text": [
      "[('running', 'VBG'), ('runs', 'NNS'), ('ran', 'VBD'), ('easily', 'RB'), ('fairly', 'RB'), ('happiness', 'JJ'), ('happy', 'JJ'), ('unhappily', 'RB'), ('happiest', 'JJS'), ('studies', 'NNS'), ('studying', 'VBG'), ('studied', 'VBN'), ('study', 'NN'), ('flies', 'NNS'), ('flying', 'VBG'), ('flew', 'JJ'), ('flight', 'NN'), ('generously', 'RB'), ('generation', 'NN'), ('generate', 'NN'), ('generated', 'VBD'), ('swimming', 'VBG'), ('swimmer', 'NN'), ('swam', 'NN'), ('swim', 'VBP'), ('better', 'JJR'), ('best', 'JJS'), ('good', 'JJ'), ('well', 'NN'), ('organization', 'NN'), ('organize', 'VB'), ('organized', 'VBN'), ('organizing', 'VBG'), ('activation', 'NN'), ('active', 'JJ'), ('activate', 'NN'), ('activating', 'NN')]\n"
     ]
    }
   ],
   "source": [
    "print(nltk.pos_tag(words))"
   ]
  }
 ],
 "metadata": {
  "kernelspec": {
   "display_name": "Python 3",
   "language": "python",
   "name": "python3"
  },
  "language_info": {
   "codemirror_mode": {
    "name": "ipython",
    "version": 3
   },
   "file_extension": ".py",
   "mimetype": "text/x-python",
   "name": "python",
   "nbconvert_exporter": "python",
   "pygments_lexer": "ipython3",
   "version": "3.12.0"
  }
 },
 "nbformat": 4,
 "nbformat_minor": 5
}
