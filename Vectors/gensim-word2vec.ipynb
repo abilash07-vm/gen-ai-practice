{
 "cells": [
  {
   "cell_type": "code",
   "execution_count": 16,
   "id": "a1fcc317",
   "metadata": {},
   "outputs": [],
   "source": [
    "import gensim.downloader as api\n",
    "w2v = api.load('word2vec-google-news-300')"
   ]
  },
  {
   "cell_type": "code",
   "execution_count": 17,
   "id": "d24b68fc",
   "metadata": {},
   "outputs": [
    {
     "data": {
      "text/plain": [
       "(300,)"
      ]
     },
     "execution_count": 17,
     "metadata": {},
     "output_type": "execute_result"
    }
   ],
   "source": [
    "vector = w2v['happy']\n",
    "vector.shape"
   ]
  },
  {
   "cell_type": "code",
   "execution_count": 18,
   "id": "13a9441c",
   "metadata": {},
   "outputs": [
    {
     "data": {
      "text/plain": [
       "[('saddening', 0.7273085713386536),\n",
       " ('Sad', 0.6610826849937439),\n",
       " ('saddened', 0.6604382395744324),\n",
       " ('heartbreaking', 0.6573508381843567),\n",
       " ('disheartening', 0.6507317423820496),\n",
       " ('Meny_Friedman', 0.6487058401107788),\n",
       " ('parishioner_Pat_Patello', 0.6475860476493835),\n",
       " ('saddens_me', 0.6407119035720825),\n",
       " ('distressing', 0.6399092674255371),\n",
       " ('reminders_bobbing', 0.6357713341712952)]"
      ]
     },
     "execution_count": 18,
     "metadata": {},
     "output_type": "execute_result"
    }
   ],
   "source": [
    "# w2v.most_similar('happy')\n",
    "w2v.most_similar('sad')"
   ]
  },
  {
   "cell_type": "code",
   "execution_count": 19,
   "id": "51a37a56",
   "metadata": {},
   "outputs": [
    {
     "data": {
      "text/plain": [
       "['pleased',\n",
       " 'excited',\n",
       " 'proud',\n",
       " 'confident',\n",
       " 'disappointed',\n",
       " 'delighted',\n",
       " 'glad',\n",
       " 'satisfied',\n",
       " 'thrilled',\n",
       " 'grateful',\n",
       " 'unhappy',\n",
       " 'thankful',\n",
       " 'happier',\n",
       " 'ecstatic',\n",
       " 'elated',\n",
       " 'enthused',\n",
       " 'overjoyed',\n",
       " 'chuffed',\n",
       " 'hapy',\n",
       " 'kinda_flummoxed',\n",
       " 'Said_Hirschbeck',\n",
       " 'shocked_Gosper']"
      ]
     },
     "execution_count": 19,
     "metadata": {},
     "output_type": "execute_result"
    }
   ],
   "source": [
    "w2v.closer_than('happy','nice')"
   ]
  },
  {
   "cell_type": "code",
   "execution_count": null,
   "id": "2cc98054",
   "metadata": {},
   "outputs": [],
   "source": []
  }
 ],
 "metadata": {
  "kernelspec": {
   "display_name": "Python 3",
   "language": "python",
   "name": "python3"
  },
  "language_info": {
   "codemirror_mode": {
    "name": "ipython",
    "version": 3
   },
   "file_extension": ".py",
   "mimetype": "text/x-python",
   "name": "python",
   "nbconvert_exporter": "python",
   "pygments_lexer": "ipython3",
   "version": "3.12.0"
  }
 },
 "nbformat": 4,
 "nbformat_minor": 5
}
